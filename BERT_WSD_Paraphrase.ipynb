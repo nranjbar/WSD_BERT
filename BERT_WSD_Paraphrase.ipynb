{
  "nbformat": 4,
  "nbformat_minor": 0,
  "metadata": {
    "colab": {
      "name": "BERT_WSD_Paraphrase.ipynb",
      "provenance": [],
      "collapsed_sections": [],
      "machine_shape": "hm"
    },
    "kernelspec": {
      "display_name": "Python 3",
      "name": "python3"
    }
  },
  "cells": [
    {
      "cell_type": "code",
      "metadata": {
        "colab": {
          "base_uri": "https://localhost:8080/"
        },
        "id": "UiiNk0hen963",
        "outputId": "0fcfd880-89e3-4658-95e1-d8aa44b49f4a"
      },
      "source": [
        "!pip install transformers\r\n"
      ],
      "execution_count": 1,
      "outputs": [
        {
          "output_type": "stream",
          "text": [
            "Collecting transformers\n",
            "\u001b[?25l  Downloading https://files.pythonhosted.org/packages/98/87/ef312eef26f5cecd8b17ae9654cdd8d1fae1eb6dbd87257d6d73c128a4d0/transformers-4.3.2-py3-none-any.whl (1.8MB)\n",
            "\u001b[K     |████████████████████████████████| 1.8MB 8.3MB/s \n",
            "\u001b[?25hRequirement already satisfied: importlib-metadata; python_version < \"3.8\" in /usr/local/lib/python3.6/dist-packages (from transformers) (3.4.0)\n",
            "Requirement already satisfied: regex!=2019.12.17 in /usr/local/lib/python3.6/dist-packages (from transformers) (2019.12.20)\n",
            "Requirement already satisfied: packaging in /usr/local/lib/python3.6/dist-packages (from transformers) (20.9)\n",
            "Collecting sacremoses\n",
            "\u001b[?25l  Downloading https://files.pythonhosted.org/packages/7d/34/09d19aff26edcc8eb2a01bed8e98f13a1537005d31e95233fd48216eed10/sacremoses-0.0.43.tar.gz (883kB)\n",
            "\u001b[K     |████████████████████████████████| 890kB 37.0MB/s \n",
            "\u001b[?25hRequirement already satisfied: tqdm>=4.27 in /usr/local/lib/python3.6/dist-packages (from transformers) (4.41.1)\n",
            "Requirement already satisfied: numpy>=1.17 in /usr/local/lib/python3.6/dist-packages (from transformers) (1.19.5)\n",
            "Requirement already satisfied: dataclasses; python_version < \"3.7\" in /usr/local/lib/python3.6/dist-packages (from transformers) (0.8)\n",
            "Requirement already satisfied: filelock in /usr/local/lib/python3.6/dist-packages (from transformers) (3.0.12)\n",
            "Collecting tokenizers<0.11,>=0.10.1\n",
            "\u001b[?25l  Downloading https://files.pythonhosted.org/packages/fd/5b/44baae602e0a30bcc53fbdbc60bd940c15e143d252d658dfdefce736ece5/tokenizers-0.10.1-cp36-cp36m-manylinux2010_x86_64.whl (3.2MB)\n",
            "\u001b[K     |████████████████████████████████| 3.2MB 54.9MB/s \n",
            "\u001b[?25hRequirement already satisfied: requests in /usr/local/lib/python3.6/dist-packages (from transformers) (2.23.0)\n",
            "Requirement already satisfied: typing-extensions>=3.6.4; python_version < \"3.8\" in /usr/local/lib/python3.6/dist-packages (from importlib-metadata; python_version < \"3.8\"->transformers) (3.7.4.3)\n",
            "Requirement already satisfied: zipp>=0.5 in /usr/local/lib/python3.6/dist-packages (from importlib-metadata; python_version < \"3.8\"->transformers) (3.4.0)\n",
            "Requirement already satisfied: pyparsing>=2.0.2 in /usr/local/lib/python3.6/dist-packages (from packaging->transformers) (2.4.7)\n",
            "Requirement already satisfied: six in /usr/local/lib/python3.6/dist-packages (from sacremoses->transformers) (1.15.0)\n",
            "Requirement already satisfied: click in /usr/local/lib/python3.6/dist-packages (from sacremoses->transformers) (7.1.2)\n",
            "Requirement already satisfied: joblib in /usr/local/lib/python3.6/dist-packages (from sacremoses->transformers) (1.0.0)\n",
            "Requirement already satisfied: urllib3!=1.25.0,!=1.25.1,<1.26,>=1.21.1 in /usr/local/lib/python3.6/dist-packages (from requests->transformers) (1.24.3)\n",
            "Requirement already satisfied: idna<3,>=2.5 in /usr/local/lib/python3.6/dist-packages (from requests->transformers) (2.10)\n",
            "Requirement already satisfied: certifi>=2017.4.17 in /usr/local/lib/python3.6/dist-packages (from requests->transformers) (2020.12.5)\n",
            "Requirement already satisfied: chardet<4,>=3.0.2 in /usr/local/lib/python3.6/dist-packages (from requests->transformers) (3.0.4)\n",
            "Building wheels for collected packages: sacremoses\n",
            "  Building wheel for sacremoses (setup.py) ... \u001b[?25l\u001b[?25hdone\n",
            "  Created wheel for sacremoses: filename=sacremoses-0.0.43-cp36-none-any.whl size=893261 sha256=07ccca9f3d5766b9aa02cb29222b292395b99363f8ab906101a8f3db92cca620\n",
            "  Stored in directory: /root/.cache/pip/wheels/29/3c/fd/7ce5c3f0666dab31a50123635e6fb5e19ceb42ce38d4e58f45\n",
            "Successfully built sacremoses\n",
            "Installing collected packages: sacremoses, tokenizers, transformers\n",
            "Successfully installed sacremoses-0.0.43 tokenizers-0.10.1 transformers-4.3.2\n"
          ],
          "name": "stdout"
        }
      ]
    },
    {
      "cell_type": "code",
      "metadata": {
        "id": "1_VPVknjcGuy",
        "colab": {
          "base_uri": "https://localhost:8080/"
        },
        "outputId": "96599b51-f9b4-4e18-9b62-e40cd7fc777a"
      },
      "source": [
        "!pip install -q tf-models-official==2.3.0\n",
        "import json"
      ],
      "execution_count": 2,
      "outputs": [
        {
          "output_type": "stream",
          "text": [
            "\u001b[K     |████████████████████████████████| 849kB 9.2MB/s \n",
            "\u001b[K     |████████████████████████████████| 37.6MB 83kB/s \n",
            "\u001b[K     |████████████████████████████████| 706kB 59.9MB/s \n",
            "\u001b[K     |████████████████████████████████| 1.2MB 59.0MB/s \n",
            "\u001b[K     |████████████████████████████████| 174kB 66.3MB/s \n",
            "\u001b[K     |████████████████████████████████| 358kB 64.0MB/s \n",
            "\u001b[K     |████████████████████████████████| 102kB 12.7MB/s \n",
            "\u001b[?25h  Building wheel for py-cpuinfo (setup.py) ... \u001b[?25l\u001b[?25hdone\n"
          ],
          "name": "stdout"
        }
      ]
    },
    {
      "cell_type": "code",
      "metadata": {
        "id": "o8XkdwrjtXmx"
      },
      "source": [
        "with open(\"training.en-en.data\", \"r\",encoding='UTF-8') as read_file:\r\n",
        "    data = json.load(read_file)\r\n",
        "with open(\"training.en-en.gold\", \"r\",encoding='UTF-8') as read_file:\r\n",
        "    gold = json.load(read_file)\r\n",
        "with open(\"dev.en-en.data\", \"r\",encoding='UTF-8') as read_file:\r\n",
        "    dev_data = json.load(read_file)\r\n",
        "with open(\"dev.en-en.gold\", \"r\",encoding='UTF-8') as read_file:\r\n",
        "    dev_gold = json.load(read_file)\r\n",
        "with open(\"test.en-en.data\", \"r\",encoding='UTF-8') as read_file:\r\n",
        "    test_data = json.load(read_file)\r\n",
        "with open(\"test.en-en.gold\", \"r\",encoding='UTF-8') as read_file:\r\n",
        "    test_gold = json.load(read_file)\r\n",
        "with open(\"translated_en1_all.txt\", \"r\",encoding='UTF-8') as read_file:\r\n",
        "    para_sents1=read_file.readlines()\r\n",
        "with open(\"translated_en2_all.txt\", \"r\",encoding='UTF-8') as read_file:\r\n",
        "    para_sents2=read_file.readlines()  \r\n",
        "with open(\"translated-en_val1_all.txt\", \"r\",encoding='UTF-8') as read_file:\r\n",
        "    para_sents_val1=read_file.readlines()\r\n",
        "with open(\"translated-en_val2_all.txt\", \"r\",encoding='UTF-8') as read_file:\r\n",
        "    para_sents_val2=read_file.readlines()  \r\n",
        "with open(\"main_train2.txt\", \"r\",encoding='UTF-8') as read_file:\r\n",
        "    main_train2=read_file.readlines()\r\n",
        "with open(\"main_train1.txt\", \"r\",encoding='UTF-8') as read_file:\r\n",
        "    main_train1=read_file.readlines()\r\n",
        "with open(\"main_val2.txt\", \"r\",encoding='UTF-8') as read_file:\r\n",
        "    main_val2=read_file.readlines()\r\n",
        "with open(\"main_val1.txt\", \"r\",encoding='UTF-8') as read_file:\r\n",
        "    main_val1=read_file.readlines()\r\n",
        "with open(\"translated-en1_test_all.txt\", \"r\",encoding='UTF-8') as read_file:\r\n",
        "    para_sents_test1=read_file.readlines()\r\n",
        "with open(\"translated_en2_test_all.txt\", \"r\",encoding='UTF-8') as read_file:\r\n",
        "    para_sents_test2=read_file.readlines()  \r\n",
        "with open(\"main_test2.txt\", \"r\",encoding='UTF-8') as read_file:\r\n",
        "    main_test2=read_file.readlines()\r\n",
        "with open(\"main_test1.txt\", \"r\",encoding='UTF-8') as read_file:\r\n",
        "    main_test1=read_file.readlines()"
      ],
      "execution_count": 3,
      "outputs": []
    },
    {
      "cell_type": "code",
      "metadata": {
        "colab": {
          "base_uri": "https://localhost:8080/"
        },
        "id": "BXKNGfitJ458",
        "outputId": "e75b7f83-768f-4394-9636-cd1c71a59583"
      },
      "source": [
        "from google.colab import drive\n",
        "drive.mount('/content/drive')"
      ],
      "execution_count": null,
      "outputs": [
        {
          "output_type": "stream",
          "text": [
            "Mounted at /content/drive\n"
          ],
          "name": "stdout"
        }
      ]
    },
    {
      "cell_type": "code",
      "metadata": {
        "id": "z9mdsZIw25pA",
        "colab": {
          "base_uri": "https://localhost:8080/"
        },
        "outputId": "82d0ac01-d808-423e-d04a-ff4b2584c7fe"
      },
      "source": [
        "import os\n",
        "import numpy as np\n",
        "import matplotlib.pyplot as plt\n",
        "import tensorflow as tf\n",
        "import tensorflow_hub as hub\n",
        "import tensorflow_datasets as tfds\n",
        "tfds.disable_progress_bar()\n",
        "from official.modeling import tf_utils\n",
        "from official import nlp\n",
        "from official.nlp import bert\n",
        "from sklearn.model_selection import train_test_split\n",
        "import json\n",
        "# Load the required submodules\n",
        "import official.nlp.optimization\n",
        "import official.nlp.bert.bert_models\n",
        "import official.nlp.bert.configs\n",
        "import official.nlp.bert.run_classifier\n",
        "import official.nlp.bert.tokenization\n",
        "import official.nlp.data.classifier_data_lib\n",
        "import official.nlp.modeling.losses\n",
        "import official.nlp.modeling.models\n",
        "import official.nlp.modeling.networks\n",
        "import pandas as pd\n",
        "import transformers as ppb\n",
        "from nltk.corpus import wordnet\n",
        "\n",
        "hub_url_bert = \"https://tfhub.dev/tensorflow/bert_en_uncased_L-12_H-768_A-12/2\"\n",
        "gs_folder_bert = \"gs://cloud-tpu-checkpoints/bert/keras_bert/uncased_L-12_H-768_A-12\"\n",
        "tf.io.gfile.listdir(gs_folder_bert)\n",
        "\n",
        "# model_class, tokenizer_class, pretrained_weights = (ppb.DistilBertModel, ppb.DistilBertTokenizer, 'distilbert-base-uncased')\n",
        "# tokenizer =tokenizer_class.from_pretrained(pretrained_weights)\n",
        "tokenizer = bert.tokenization.FullTokenizer(\n",
        "    vocab_file=os.path.join(gs_folder_bert, \"vocab.txt\"),\n",
        "     do_lower_case=True)\n",
        "\n",
        "print(\"Vocab size:\", len(tokenizer.vocab))\n",
        "def merge(lst1, lst2):\n",
        "    return [a + b[1:] for (a, b) in zip(lst1, lst2)]\n",
        "\n",
        "def encode_sentence(s):\n",
        "   tokens = list(tokenizer.tokenize(s))\n",
        "   tokens.append('[SEP]')\n",
        "   return tokenizer.convert_tokens_to_ids(tokens)\n",
        "# df = pd.DataFrame(columns = 'label',data=[dat['tag'] for dat in gold])\n",
        "\n"
      ],
      "execution_count": 4,
      "outputs": [
        {
          "output_type": "stream",
          "text": [
            "Vocab size: 30522\n"
          ],
          "name": "stdout"
        }
      ]
    },
    {
      "cell_type": "code",
      "metadata": {
        "id": "Ysc6EHws_lqh"
      },
      "source": [
        "def prepare_paraphrases(main1, main2 ,para_sents1,para_sents2,data):\r\n",
        "  sentences1=[]\r\n",
        "  sentences2=[]\r\n",
        "  paraphrased1=[]\r\n",
        "  paraphrased2=[]\r\n",
        "  for dat in data:\r\n",
        "    sent1=dat['sentence1']\r\n",
        "    sent2=dat['sentence2']\r\n",
        "    sentences1.append(sent1)\r\n",
        "    sentences2.append(sent2)\r\n",
        "  count=0\r\n",
        "  for sent in sentences1:\r\n",
        "    sent1=sent+'\\n'\r\n",
        "    if sent in main1:\r\n",
        "      ind=main1.index(sent)\r\n",
        "      para=para_sents1[ind]\r\n",
        "      paraphrased1.append(para[0:len(para)-1])\r\n",
        "      count+=1\r\n",
        "    elif sent1 in main1:\r\n",
        "      ind=main1.index(sent1)\r\n",
        "      para=para_sents1[ind]\r\n",
        "      paraphrased1.append(para[0:len(para)-1])\r\n",
        "      count+=1\r\n",
        "    else:\r\n",
        "      print(sent)\r\n",
        "    # if count<5:\r\n",
        "    #   print(ind)\r\n",
        "    #   print(sent)\r\n",
        "    #   print(para)\r\n",
        "  print(\"countSents1:{}\".format(count))\r\n",
        "  count=0\r\n",
        "  for sent in sentences2:\r\n",
        "    sent2=sent+'\\n'\r\n",
        "    if sent in main2:\r\n",
        "      ind=main2.index(sent)\r\n",
        "      para=para_sents2[ind]\r\n",
        "      paraphrased2.append(para[0:len(para)-1])\r\n",
        "      count+=1\r\n",
        "    elif sent2 in main2:\r\n",
        "      ind=main2.index(sent2)\r\n",
        "      para=para_sents2[ind]\r\n",
        "      paraphrased2.append(para[0:len(para)-1])\r\n",
        "      count+=1\r\n",
        "    else:\r\n",
        "      print(sent)\r\n",
        "  print(\"countSents2:{}\".format(count))\r\n",
        "  return paraphrased1,paraphrased2\r\n"
      ],
      "execution_count": 5,
      "outputs": []
    },
    {
      "cell_type": "code",
      "metadata": {
        "colab": {
          "base_uri": "https://localhost:8080/"
        },
        "id": "IW4-BzS84t3f",
        "outputId": "baf8f30d-ff86-4dee-bb74-46f767a59183"
      },
      "source": [
        "paraphrased1,paraphrased2=prepare_paraphrases(main_train1,main_train2,para_sents1,para_sents2,data)"
      ],
      "execution_count": 6,
      "outputs": [
        {
          "output_type": "stream",
          "text": [
            "countSents1:8000\n",
            "countSents2:8000\n"
          ],
          "name": "stdout"
        }
      ]
    },
    {
      "cell_type": "code",
      "metadata": {
        "colab": {
          "base_uri": "https://localhost:8080/"
        },
        "id": "sF99FFsUEKt_",
        "outputId": "d0e59e00-6d4e-43c1-d873-0a4e3ac38972"
      },
      "source": [
        "paraphrases_val1,paraphrased_val2=prepare_paraphrases(main_val1,main_val2,para_sents_val1,para_sents_val2,dev_data)"
      ],
      "execution_count": 7,
      "outputs": [
        {
          "output_type": "stream",
          "text": [
            "countSents1:1000\n",
            "countSents2:1000\n"
          ],
          "name": "stdout"
        }
      ]
    },
    {
      "cell_type": "code",
      "metadata": {
        "colab": {
          "base_uri": "https://localhost:8080/"
        },
        "id": "9Js8UK2uFTXC",
        "outputId": "1fe90663-844d-47c6-99fb-1e63b2180e05"
      },
      "source": [
        "paraphrases_test1,paraphrased_test2=prepare_paraphrases(main_test1,main_test2,para_sents_test1,para_sents_test2,test_data)"
      ],
      "execution_count": 8,
      "outputs": [
        {
          "output_type": "stream",
          "text": [
            "countSents1:1000\n",
            "countSents2:1000\n"
          ],
          "name": "stdout"
        }
      ]
    },
    {
      "cell_type": "code",
      "metadata": {
        "id": "MMtnSpSr_q1g"
      },
      "source": [
        "def encode_sentence(s):\r\n",
        "   tokens = list(tokenizer.tokenize(s))\r\n",
        "   tokens.append('[SEP]')\r\n",
        "   return tokenizer.convert_tokens_to_ids(tokens)"
      ],
      "execution_count": null,
      "outputs": []
    },
    {
      "cell_type": "code",
      "metadata": {
        "id": "dCDHI_IoN6sB"
      },
      "source": [
        "labels_tmp= np.array([dat['tag'] for dat in gold])\r\n",
        "labels= [0 if x=='F' else 1 for x in labels_tmp]\r\n",
        "labels=np.asarray(labels)"
      ],
      "execution_count": 9,
      "outputs": []
    },
    {
      "cell_type": "code",
      "metadata": {
        "id": "cQQJzvuWN6sC"
      },
      "source": [
        "labels_tmp_val= np.array([dat['tag'] for dat in dev_gold])\r\n",
        "labels_val= [0 if x=='F' else 1 for x in labels_tmp_val]\r\n",
        "labels_val=np.asarray(labels_val)"
      ],
      "execution_count": 10,
      "outputs": []
    },
    {
      "cell_type": "code",
      "metadata": {
        "id": "GavRmd08N6sD"
      },
      "source": [
        "labels_tmp_test= np.array([dat['tag'] for dat in test_gold])\r\n",
        "labels_test= [0 if x=='F' else 1 for x in labels_tmp_test]\r\n",
        "labels_test=np.asarray(labels_test)"
      ],
      "execution_count": 11,
      "outputs": []
    },
    {
      "cell_type": "code",
      "metadata": {
        "id": "s1DZB9Zx_2pI"
      },
      "source": [
        "def prepareData(data, paraphrased1,paraphrased2):\r\n",
        "    sentence1=[]\r\n",
        "    sentence2=[]\r\n",
        "    paraphrased1_encode=[]\r\n",
        "    paraphrased2_encode=[]\r\n",
        "    for i in range(len(data)):\r\n",
        "        dat=data[i]\r\n",
        "        para1=paraphrased1[i]\r\n",
        "        para2=paraphrased2[i]\r\n",
        "        sent1=dat['sentence1']\r\n",
        "        sent2=dat['sentence2']\r\n",
        "        \r\n",
        "        wordInFirst=sent1[int(dat['start1']):int(dat['end1'])]\r\n",
        "        wordInSecond=sent2[int(dat['start2']):int(dat['end2'])]\r\n",
        "        newSent1=sent1[0:int(dat['start1'])]+'[TGT] '+wordInFirst+' [TGT]'+sent1[int(dat['end1']):len(sent1)]\r\n",
        "        newSent2=sent2[0:int(dat['start2'])]+'[TGT] '+ wordInSecond+' [TGT]'+sent2[int(dat['end2']):len(sent2)]\r\n",
        "        \r\n",
        "        paraphrased1_encode.append(encode_sentence(para1))\r\n",
        "        paraphrased2_encode.append(encode_sentence(para2))\r\n",
        "        \r\n",
        "        sentence1.append(encode_sentence(newSent1))\r\n",
        "        sentence2.append(encode_sentence(newSent2))\r\n",
        "\r\n",
        "    return sentence1,sentence2 , paraphrased1_encode, paraphrased2_encode"
      ],
      "execution_count": 12,
      "outputs": []
    },
    {
      "cell_type": "code",
      "metadata": {
        "id": "9hRJyQHEoQ7f"
      },
      "source": [
        "sentence1_train,sentence2_train, paraphrased1_train, paraphrased2_train=prepareData(data,paraphrased1,paraphrased2)"
      ],
      "execution_count": 13,
      "outputs": []
    },
    {
      "cell_type": "code",
      "metadata": {
        "id": "fj_7kQTtF5HK"
      },
      "source": [
        "sentence1_val,sentence2_val, paraphrased1_val, paraphrased2_val=prepareData(dev_data,paraphrases_val1,paraphrased_val2)"
      ],
      "execution_count": 14,
      "outputs": []
    },
    {
      "cell_type": "code",
      "metadata": {
        "id": "P_mWql3rGZk6"
      },
      "source": [
        "sentence1_test,sentence2_test, paraphrased1_test, paraphrased2_test=prepareData(test_data,paraphrases_test1,paraphrased_test2)"
      ],
      "execution_count": 15,
      "outputs": []
    },
    {
      "cell_type": "code",
      "metadata": {
        "id": "SxrFUH67oN1_"
      },
      "source": [
        "def prepare_input(sentence1,sentence2,paraphrased1,paraphrased2):\r\n",
        "    sentence1=tf.ragged.constant(sentence1)\r\n",
        "    sentence2=tf.ragged.constant(sentence2)\r\n",
        "\r\n",
        "    cls = [tokenizer.convert_tokens_to_ids(['[CLS]'])] * sentence1.shape[0]\r\n",
        "    input_word_ids = tf.concat([cls, sentence1, sentence2], axis=-1)\r\n",
        "    input_mask = tf.ones_like(input_word_ids).to_tensor()\r\n",
        "    type_cls = tf.zeros_like(cls)\r\n",
        "    type_s1 = tf.ones_like(sentence1)\r\n",
        "    type_s2 = tf.ones_like(sentence2)\r\n",
        "    type_s2 = type_s2+1;\r\n",
        "    input_type_ids = tf.concat([type_cls, type_s1, type_s2], axis=-1).to_tensor()\r\n",
        "    \r\n",
        "\r\n",
        "    paraphrased1=tf.ragged.constant(paraphrased1)\r\n",
        "    paraphrased2=tf.ragged.constant(paraphrased2)\r\n",
        "    cls2 = [tokenizer.convert_tokens_to_ids(['[CLS]'])] * paraphrased1.shape[0]\r\n",
        "    input_para_ids = tf.concat([cls2, paraphrased1, paraphrased2], axis=-1)\r\n",
        "    input_mask_para = tf.ones_like(input_para_ids).to_tensor()\r\n",
        "    type_cls2 = tf.zeros_like(cls2)\r\n",
        "    type_para1 = tf.ones_like(paraphrased1)\r\n",
        "    type_para2 = tf.ones_like(paraphrased2)\r\n",
        "    type_para2 = type_para2+1;\r\n",
        "    para_type_ids = tf.concat([type_cls2, type_para1, type_para2], axis=-1).to_tensor()\r\n",
        "\r\n",
        "    inputs = {\r\n",
        "        'input_word_ids': input_word_ids.to_tensor(),\r\n",
        "        'input_mask': input_mask,\r\n",
        "        'input_type_ids': input_type_ids,\r\n",
        "        'input_para_ids':input_para_ids.to_tensor(),\r\n",
        "        'input_mask_para':input_mask_para,\r\n",
        "        'para_type_ids':para_type_ids}\r\n",
        "    return inputs"
      ],
      "execution_count": 16,
      "outputs": []
    },
    {
      "cell_type": "code",
      "metadata": {
        "id": "BtLNIUq_GgFy"
      },
      "source": [
        "inputs_train=prepare_input(sentence1_train,sentence2_train, paraphrased1_train, paraphrased2_train)"
      ],
      "execution_count": 18,
      "outputs": []
    },
    {
      "cell_type": "code",
      "metadata": {
        "id": "DPNkxtMDGmlB"
      },
      "source": [
        "inputs_val=prepare_input(sentence1_val,sentence2_val, paraphrased1_val, paraphrased2_val)"
      ],
      "execution_count": 19,
      "outputs": []
    },
    {
      "cell_type": "code",
      "metadata": {
        "id": "27cJ0XWeGnnR"
      },
      "source": [
        "inputs_test=prepare_input(sentence1_test,sentence2_test, paraphrased1_test, paraphrased2_test)"
      ],
      "execution_count": 20,
      "outputs": []
    },
    {
      "cell_type": "code",
      "metadata": {
        "id": "BBFOInRVLatu"
      },
      "source": [
        "max=0\r\n",
        "max_type=[]\r\n",
        "for i in range(input_word_ids.shape[0]):\r\n",
        "  if input_word_ids[i].shape[0]>max:\r\n",
        "    max=input_word_ids[i].shape[0]\r\n",
        "    max_type=input_word_ids[i]\r\n",
        "print(max_type[0:300])\r\n",
        "   "
      ],
      "execution_count": null,
      "outputs": []
    },
    {
      "cell_type": "code",
      "metadata": {
        "colab": {
          "base_uri": "https://localhost:8080/"
        },
        "id": "qFH0r7scN6sH",
        "outputId": "29c044cf-56fb-4b2c-a197-7164a96d4435"
      },
      "source": [
        "print(input_word_ids[2].shape)\r\n",
        "print(input_type_ids[2].shape)\r\n",
        "print(input_mask[2].shape)"
      ],
      "execution_count": null,
      "outputs": [
        {
          "output_type": "stream",
          "text": [
            "(88,)\n",
            "(236,)\n",
            "(236,)\n"
          ],
          "name": "stdout"
        }
      ]
    },
    {
      "cell_type": "code",
      "metadata": {
        "colab": {
          "base_uri": "https://localhost:8080/"
        },
        "id": "T70dBTinGPuX",
        "outputId": "efabd57c-bbff-40d2-f237-39c4ffb19f0b"
      },
      "source": [
        "inputs['input_word_ids'].shape"
      ],
      "execution_count": null,
      "outputs": [
        {
          "output_type": "execute_result",
          "data": {
            "text/plain": [
              "TensorShape([9000, None])"
            ]
          },
          "metadata": {
            "tags": []
          },
          "execution_count": 82
        }
      ]
    },
    {
      "cell_type": "code",
      "metadata": {
        "colab": {
          "base_uri": "https://localhost:8080/"
        },
        "id": "V3HiSOZCAJsH",
        "outputId": "c62d1dc6-6782-4a90-9546-526b1a6f41d9"
      },
      "source": [
        "\r\n",
        "bert_config_file = os.path.join(gs_folder_bert, \"bert_config.json\")\r\n",
        "config_dict = json.loads(tf.io.gfile.GFile(bert_config_file).read())\r\n",
        "bert_config = bert.configs.BertConfig.from_dict(config_dict)\r\n",
        "\r\n",
        "print(config_dict)\r\n",
        "# config_dict={'attention_probs_dropout_prob': 0.1,\r\n",
        "#  'hidden_act': 'relu',\r\n",
        "#  'hidden_dropout_prob': 0.1,\r\n",
        "#  'hidden_size': 768,\r\n",
        "#  'initializer_range': 0.02,\r\n",
        "#  'intermediate_size': 3072,\r\n",
        "#  'max_position_embeddings': 512,\r\n",
        "#  'num_attention_heads': 12,\r\n",
        "#  'num_hidden_layers': 12,\r\n",
        "#  'type_vocab_size': 2,\r\n",
        "#  'vocab_size': 30522}\r\n",
        "\r\n",
        "# bert_config = bert.configs.BertConfig.from_dict(config_dict)\r\n",
        "\r\n",
        "# print('test')\r\n",
        "# print(bert_config['initializer_range'])\r\n",
        "# print(bert.bert_models.get_transformer_encoder( bert_config ,sequence_length=100))"
      ],
      "execution_count": 21,
      "outputs": [
        {
          "output_type": "stream",
          "text": [
            "{'attention_probs_dropout_prob': 0.1, 'hidden_act': 'gelu', 'hidden_dropout_prob': 0.1, 'hidden_size': 768, 'initializer_range': 0.02, 'intermediate_size': 3072, 'max_position_embeddings': 512, 'num_attention_heads': 12, 'num_hidden_layers': 12, 'type_vocab_size': 2, 'vocab_size': 30522}\n"
          ],
          "name": "stdout"
        }
      ]
    },
    {
      "cell_type": "code",
      "metadata": {
        "colab": {
          "base_uri": "https://localhost:8080/",
          "height": 220
        },
        "id": "5E_Kp8pw817b",
        "outputId": "86fd3da4-76e8-4b00-da1c-5fe73007c8b3"
      },
      "source": [
        "tf.keras.utils.plot_model(bert_classifier, show_shapes=True, dpi=48)"
      ],
      "execution_count": null,
      "outputs": [
        {
          "output_type": "execute_result",
          "data": {
            "image/png": "[encoded data removed]",
            "text/plain": [
              "<IPython.core.display.Image object>"
            ]
          },
          "metadata": {
            "tags": []
          },
          "execution_count": 27
        }
      ]
    },
    {
      "cell_type": "code",
      "metadata": {
        "id": "90Wlf-t5-2J5"
      },
      "source": [
        "del bert_classifier"
      ],
      "execution_count": null,
      "outputs": []
    },
    {
      "cell_type": "code",
      "metadata": {
        "id": "toVFX43f-6Y2"
      },
      "source": [
        "del bert_encoder"
      ],
      "execution_count": null,
      "outputs": []
    },
    {
      "cell_type": "code",
      "metadata": {
        "id": "5pU-O0RL--Jw"
      },
      "source": [
        "del checkpoint"
      ],
      "execution_count": null,
      "outputs": []
    },
    {
      "cell_type": "code",
      "metadata": {
        "colab": {
          "base_uri": "https://localhost:8080/"
        },
        "id": "vtWRW_jBfzgk",
        "outputId": "96f85466-91e3-425a-c72a-8e09ed1e5535"
      },
      "source": [
        "bert_classifier, bert_encoder = bert.bert_models.classifier_model(\r\n",
        "    bert_config, num_labels=2)\r\n",
        "\r\n",
        "checkpoint = tf.train.Checkpoint(model=bert_encoder)\r\n",
        "checkpoint.restore(\r\n",
        "    os.path.join(gs_folder_bert, 'bert_model.ckpt')).assert_consumed()\r\n",
        "# print(bert_encoder.get_embedding_table())\r\n",
        "epochs = 10\r\n",
        "batch_size = 32\r\n",
        "eval_batch_size =32\r\n",
        "\r\n",
        "train_data_size = len(labels)\r\n",
        "steps_per_epoch = int(train_data_size / batch_size)\r\n",
        "num_train_steps = steps_per_epoch * epochs\r\n",
        "warmup_steps = int(epochs * train_data_size * 0.1 / batch_size)\r\n",
        "\r\n",
        "# creates an optimizer with learning rate schedule\r\n",
        "optimizer = nlp.optimization.create_optimizer(\r\n",
        "    2e-5, num_train_steps=num_train_steps, num_warmup_steps=warmup_steps)\r\n",
        "\r\n",
        "metrics = [tf.keras.metrics.SparseCategoricalAccuracy('accuracy', dtype=tf.float32)]\r\n",
        "loss = tf.keras.losses.SparseCategoricalCrossentropy(from_logits=True)\r\n",
        "early_stopping = tf.keras.callbacks.EarlyStopping(monitor='val_loss',\r\n",
        "                                                    patience=2,\r\n",
        "                                                    mode='min')\r\n",
        "bert_classifier.compile(\r\n",
        "    optimizer=optimizer,\r\n",
        "    loss=loss,\r\n",
        "    metrics=metrics)\r\n",
        "\r\n",
        "bert_classifier.fit(\r\n",
        "      inputs_train, labels,\r\n",
        "      batch_size=32,\r\n",
        "      validation_data=(inputs_val,labels_val),\r\n",
        "      callbacks=[early_stopping],\r\n",
        "      epochs=epochs)\r\n",
        "export_dir='./saved_model'\r\n",
        "tf.saved_model.save(bert_classifier, export_dir=export_dir)"
      ],
      "execution_count": 30,
      "outputs": [
        {
          "output_type": "stream",
          "text": [
            "INFO:absl:using Adamw optimizer\n",
            "/usr/local/lib/python3.6/dist-packages/tensorflow/python/keras/engine/functional.py:595: UserWarning: Input dict contained keys ['input_para_ids', 'input_mask_para', 'para_type_ids'] which did not match any model input. They will be ignored by the model.\n",
            "  [n for n in tensors.keys() if n not in ref_input_names])\n"
          ],
          "name": "stderr"
        },
        {
          "output_type": "stream",
          "text": [
            "Epoch 1/10\n",
            "WARNING:tensorflow:Unresolved object in checkpoint: (root).model.layer_with_weights-4._attention_layer._dropout\n"
          ],
          "name": "stdout"
        },
        {
          "output_type": "stream",
          "text": [
            "WARNING:tensorflow:Unresolved object in checkpoint: (root).model.layer_with_weights-4._attention_layer._dropout\n"
          ],
          "name": "stderr"
        },
        {
          "output_type": "stream",
          "text": [
            "WARNING:tensorflow:Unresolved object in checkpoint: (root).model.layer_with_weights-5._attention_layer._dropout\n"
          ],
          "name": "stdout"
        },
        {
          "output_type": "stream",
          "text": [
            "WARNING:tensorflow:Unresolved object in checkpoint: (root).model.layer_with_weights-5._attention_layer._dropout\n"
          ],
          "name": "stderr"
        },
        {
          "output_type": "stream",
          "text": [
            "WARNING:tensorflow:Unresolved object in checkpoint: (root).model.layer_with_weights-6._attention_layer._dropout\n"
          ],
          "name": "stdout"
        },
        {
          "output_type": "stream",
          "text": [
            "WARNING:tensorflow:Unresolved object in checkpoint: (root).model.layer_with_weights-6._attention_layer._dropout\n"
          ],
          "name": "stderr"
        },
        {
          "output_type": "stream",
          "text": [
            "WARNING:tensorflow:Unresolved object in checkpoint: (root).model.layer_with_weights-7._attention_layer._dropout\n"
          ],
          "name": "stdout"
        },
        {
          "output_type": "stream",
          "text": [
            "WARNING:tensorflow:Unresolved object in checkpoint: (root).model.layer_with_weights-7._attention_layer._dropout\n"
          ],
          "name": "stderr"
        },
        {
          "output_type": "stream",
          "text": [
            "WARNING:tensorflow:Unresolved object in checkpoint: (root).model.layer_with_weights-8._attention_layer._dropout\n"
          ],
          "name": "stdout"
        },
        {
          "output_type": "stream",
          "text": [
            "WARNING:tensorflow:Unresolved object in checkpoint: (root).model.layer_with_weights-8._attention_layer._dropout\n"
          ],
          "name": "stderr"
        },
        {
          "output_type": "stream",
          "text": [
            "WARNING:tensorflow:Unresolved object in checkpoint: (root).model.layer_with_weights-9._attention_layer._dropout\n"
          ],
          "name": "stdout"
        },
        {
          "output_type": "stream",
          "text": [
            "WARNING:tensorflow:Unresolved object in checkpoint: (root).model.layer_with_weights-9._attention_layer._dropout\n"
          ],
          "name": "stderr"
        },
        {
          "output_type": "stream",
          "text": [
            "WARNING:tensorflow:Unresolved object in checkpoint: (root).model.layer_with_weights-10._attention_layer._dropout\n"
          ],
          "name": "stdout"
        },
        {
          "output_type": "stream",
          "text": [
            "WARNING:tensorflow:Unresolved object in checkpoint: (root).model.layer_with_weights-10._attention_layer._dropout\n"
          ],
          "name": "stderr"
        },
        {
          "output_type": "stream",
          "text": [
            "WARNING:tensorflow:Unresolved object in checkpoint: (root).model.layer_with_weights-11._attention_layer._dropout\n"
          ],
          "name": "stdout"
        },
        {
          "output_type": "stream",
          "text": [
            "WARNING:tensorflow:Unresolved object in checkpoint: (root).model.layer_with_weights-11._attention_layer._dropout\n"
          ],
          "name": "stderr"
        },
        {
          "output_type": "stream",
          "text": [
            "WARNING:tensorflow:Unresolved object in checkpoint: (root).model.layer_with_weights-12._attention_layer._dropout\n"
          ],
          "name": "stdout"
        },
        {
          "output_type": "stream",
          "text": [
            "WARNING:tensorflow:Unresolved object in checkpoint: (root).model.layer_with_weights-12._attention_layer._dropout\n"
          ],
          "name": "stderr"
        },
        {
          "output_type": "stream",
          "text": [
            "WARNING:tensorflow:Unresolved object in checkpoint: (root).model.layer_with_weights-13._attention_layer._dropout\n"
          ],
          "name": "stdout"
        },
        {
          "output_type": "stream",
          "text": [
            "WARNING:tensorflow:Unresolved object in checkpoint: (root).model.layer_with_weights-13._attention_layer._dropout\n"
          ],
          "name": "stderr"
        },
        {
          "output_type": "stream",
          "text": [
            "WARNING:tensorflow:Unresolved object in checkpoint: (root).model.layer_with_weights-14._attention_layer._dropout\n"
          ],
          "name": "stdout"
        },
        {
          "output_type": "stream",
          "text": [
            "WARNING:tensorflow:Unresolved object in checkpoint: (root).model.layer_with_weights-14._attention_layer._dropout\n"
          ],
          "name": "stderr"
        },
        {
          "output_type": "stream",
          "text": [
            "WARNING:tensorflow:Unresolved object in checkpoint: (root).model.layer_with_weights-15._attention_layer._dropout\n"
          ],
          "name": "stdout"
        },
        {
          "output_type": "stream",
          "text": [
            "WARNING:tensorflow:Unresolved object in checkpoint: (root).model.layer_with_weights-15._attention_layer._dropout\n"
          ],
          "name": "stderr"
        },
        {
          "output_type": "stream",
          "text": [
            "WARNING:tensorflow:A checkpoint was restored (e.g. tf.train.Checkpoint.restore or tf.keras.Model.load_weights) but not all checkpointed values were used. See above for specific issues. Use expect_partial() on the load status object, e.g. tf.train.Checkpoint.restore(...).expect_partial(), to silence these warnings, or use assert_consumed() to make the check explicit. See https://www.tensorflow.org/guide/checkpoint#loading_mechanics for details.\n"
          ],
          "name": "stdout"
        },
        {
          "output_type": "stream",
          "text": [
            "WARNING:tensorflow:A checkpoint was restored (e.g. tf.train.Checkpoint.restore or tf.keras.Model.load_weights) but not all checkpointed values were used. See above for specific issues. Use expect_partial() on the load status object, e.g. tf.train.Checkpoint.restore(...).expect_partial(), to silence these warnings, or use assert_consumed() to make the check explicit. See https://www.tensorflow.org/guide/checkpoint#loading_mechanics for details.\n"
          ],
          "name": "stderr"
        },
        {
          "output_type": "stream",
          "text": [
            "250/250 [==============================] - 159s 598ms/step - loss: 0.6829 - accuracy: 0.5407 - val_loss: 0.4938 - val_accuracy: 0.7660\n",
            "Epoch 2/10\n",
            "250/250 [==============================] - 148s 593ms/step - loss: 0.4501 - accuracy: 0.8012 - val_loss: 0.3726 - val_accuracy: 0.8480\n",
            "Epoch 3/10\n",
            "250/250 [==============================] - 148s 593ms/step - loss: 0.2469 - accuracy: 0.9132 - val_loss: 0.4073 - val_accuracy: 0.8530\n",
            "Epoch 4/10\n",
            "250/250 [==============================] - 148s 593ms/step - loss: 0.1481 - accuracy: 0.9532 - val_loss: 0.5195 - val_accuracy: 0.8500\n"
          ],
          "name": "stdout"
        },
        {
          "output_type": "stream",
          "text": [
            "WARNING:absl:Found untraced functions such as self_attention_layer_call_and_return_conditional_losses, self_attention_layer_call_fn, attention_output_layer_call_and_return_conditional_losses, attention_output_layer_call_fn, dropout_1_layer_call_and_return_conditional_losses while saving (showing 5 of 840). These functions will not be directly callable after loading.\n",
            "WARNING:absl:Found untraced functions such as self_attention_layer_call_and_return_conditional_losses, self_attention_layer_call_fn, attention_output_layer_call_and_return_conditional_losses, attention_output_layer_call_fn, dropout_1_layer_call_and_return_conditional_losses while saving (showing 5 of 840). These functions will not be directly callable after loading.\n"
          ],
          "name": "stderr"
        },
        {
          "output_type": "stream",
          "text": [
            "INFO:tensorflow:Assets written to: ./saved_model/assets\n"
          ],
          "name": "stdout"
        },
        {
          "output_type": "stream",
          "text": [
            "INFO:tensorflow:Assets written to: ./saved_model/assets\n"
          ],
          "name": "stderr"
        }
      ]
    },
    {
      "cell_type": "code",
      "metadata": {
        "id": "l7sUoobqjj_0"
      },
      "source": [
        "bert_classifier_model = tf.keras.models.load_model('drive/MyDrive/saved_model/')\r\n"
      ],
      "execution_count": null,
      "outputs": []
    },
    {
      "cell_type": "code",
      "metadata": {
        "colab": {
          "base_uri": "https://localhost:8080/"
        },
        "id": "vGmOeuX8YE7q",
        "outputId": "d80c9546-e581-45a2-8010-ee67a71baa04"
      },
      "source": [
        "from sklearn.metrics import accuracy_score\n",
        "result= bert_classifier.predict(inputs_test)\n",
        "result = tf.argmax(result,axis=1).numpy()\n",
        "# print(test_labels.shape)\n",
        "print(accuracy_score(labels_test,result))\n",
        "num=0\n",
        "str=''\n",
        "# for i in np.arange(0,1000,1):\n",
        "#   if result[i]!=labels_test[i]:\n",
        "#     num+=1\n",
        "#     print('{}:trueLabel:{},resultLabel:{}'.format(i,labels_test[i],result[i]))\n",
        "\n",
        "# print(num)"
      ],
      "execution_count": 31,
      "outputs": [
        {
          "output_type": "stream",
          "text": [
            "/usr/local/lib/python3.6/dist-packages/tensorflow/python/keras/engine/functional.py:595: UserWarning: Input dict contained keys ['input_para_ids', 'input_mask_para', 'para_type_ids'] which did not match any model input. They will be ignored by the model.\n",
            "  [n for n in tensors.keys() if n not in ref_input_names])\n"
          ],
          "name": "stderr"
        },
        {
          "output_type": "stream",
          "text": [
            "0.855\n"
          ],
          "name": "stdout"
        }
      ]
    },
    {
      "cell_type": "code",
      "metadata": {
        "id": "8G1IwkRu80YR"
      },
      "source": [
        "# inputs_test=prepareData(test_data)\n",
        "result= bert_classifier.predict(inputs_test)\n",
        "result = tf.argmax(result,axis=1).numpy()\n",
        "test_result = []\n",
        "for i in range(len(result)):\n",
        "  id=\"test.en-en.{}\".format(i)\n",
        "  test_result.append({\n",
        "      'id':id,\n",
        "      'tag':'T' if result[i]==1 else 'F'\n",
        "  })\n",
        "json_object = json.dumps(test_result, indent = 4) \n",
        "with open('test.en-en', 'w') as outfile:\n",
        "    outfile.write(json_object) "
      ],
      "execution_count": null,
      "outputs": []
    }
  ]
}